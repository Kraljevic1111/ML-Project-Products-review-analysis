{
  "nbformat": 4,
  "nbformat_minor": 0,
  "metadata": {
    "colab": {
      "provenance": [],
      "authorship_tag": "ABX9TyMFBbtfqrs4pYUU7ckyYiVW",
      "include_colab_link": true
    },
    "kernelspec": {
      "name": "python3",
      "display_name": "Python 3"
    },
    "language_info": {
      "name": "python"
    }
  },
  "cells": [
    {
      "cell_type": "markdown",
      "metadata": {
        "id": "view-in-github",
        "colab_type": "text"
      },
      "source": [
        "<a href=\"https://colab.research.google.com/github/Kraljevic1111/ML-Project-Products-review-analysis/blob/main/notebook/Products_review_analysis.ipynb\" target=\"_parent\"><img src=\"https://colab.research.google.com/assets/colab-badge.svg\" alt=\"Open In Colab\"/></a>"
      ]
    },
    {
      "cell_type": "code",
      "execution_count": 1,
      "metadata": {
        "colab": {
          "base_uri": "https://localhost:8080/"
        },
        "id": "N27314LfGV8C",
        "outputId": "44f20d23-6a1a-4b0a-87f4-84de85b6b46b"
      },
      "outputs": [
        {
          "output_type": "stream",
          "name": "stdout",
          "text": [
            "First 10 rows\n",
            "   product ID                                      Product Title  Merchant ID  \\\n",
            "0           1                    apple iphone 8 plus 64gb silver            1   \n",
            "1           2                apple iphone 8 plus 64 gb spacegrau            2   \n",
            "2           3  apple mq8n2b/a iphone 8 plus 64gb 5.5 12mp sim...            3   \n",
            "3           4                apple iphone 8 plus 64gb space grey            4   \n",
            "4           5  apple iphone 8 plus gold 5.5 64gb 4g unlocked ...            5   \n",
            "5           6  apple iphone 8 plus gold 5.5 64gb 4g unlocked ...            6   \n",
            "6           7               apple iphone 8 plus 64 gb space grey            7   \n",
            "7           8                apple iphone 8 plus 64gb space grey            8   \n",
            "8           9                apple iphone 8 plus 64gb space grey            9   \n",
            "9          10                apple iphone 8 plus 64gb space grey           10   \n",
            "\n",
            "   Category Label _Product Code  Number_of_Views  Merchant Rating  \\\n",
            "0   Mobile Phones    QA-2276-XC            860.0              2.5   \n",
            "1   Mobile Phones    KA-2501-QO           3772.0              4.8   \n",
            "2   Mobile Phones    FP-8086-IE           3092.0              3.9   \n",
            "3   Mobile Phones    YI-0086-US            466.0              3.4   \n",
            "4   Mobile Phones    NZ-3586-WP           4426.0              1.6   \n",
            "5   Mobile Phones    SB-2202-CH           3444.0              1.6   \n",
            "6   Mobile Phones    QJ-3229-QP           3171.0              1.2   \n",
            "7   Mobile Phones    ES-1396-OR           2919.0              4.5   \n",
            "8   Mobile Phones    VU-2032-FY            130.0              3.4   \n",
            "9   Mobile Phones    WI-6394-GG           1685.0              3.8   \n",
            "\n",
            "   Listing Date    \n",
            "0       5/10/2024  \n",
            "1      12/31/2024  \n",
            "2      11/10/2024  \n",
            "3        5/2/2022  \n",
            "4       4/12/2023  \n",
            "5      11/27/2022  \n",
            "6       3/29/2022  \n",
            "7       5/21/2024  \n",
            "8       5/11/2022  \n",
            "9        2/9/2024  \n",
            "Print number of rows: 35311\n",
            "Number of rows,columns:\n",
            "(35311, 8)\n",
            "Information about dataset\n",
            "<class 'pandas.core.frame.DataFrame'>\n",
            "RangeIndex: 35311 entries, 0 to 35310\n",
            "Data columns (total 8 columns):\n",
            " #   Column           Non-Null Count  Dtype  \n",
            "---  ------           --------------  -----  \n",
            " 0   product ID       35311 non-null  int64  \n",
            " 1   Product Title    35139 non-null  object \n",
            " 2   Merchant ID      35311 non-null  int64  \n",
            " 3    Category Label  35267 non-null  object \n",
            " 4   _Product Code    35216 non-null  object \n",
            " 5   Number_of_Views  35297 non-null  float64\n",
            " 6   Merchant Rating  35141 non-null  float64\n",
            " 7    Listing Date    35252 non-null  object \n",
            "dtypes: float64(2), int64(2), object(4)\n",
            "memory usage: 2.2+ MB\n",
            "None\n"
          ]
        }
      ],
      "source": [
        "import pandas as pd\n",
        "\n",
        "# load dataset from GitHub\n",
        "url = \"https://raw.githubusercontent.com/Kraljevic1111/ML-Project-Products-review-analysis/main/data/products.csv\"\n",
        "df = pd.read_csv(url)\n",
        "print(\"First 10 rows\")\n",
        "print(df.head(10))\n",
        "print(\"Print number of rows:\",len(df))\n",
        "print(\"Number of rows,columns:\")\n",
        "print(df.shape)\n",
        "print(\"Information about dataset\")\n",
        "print(df.info())"
      ]
    },
    {
      "cell_type": "markdown",
      "source": [
        "## Checking for missing values"
      ],
      "metadata": {
        "id": "mFu6idEzLteS"
      }
    },
    {
      "cell_type": "code",
      "source": [
        "print(\"Missing values per column:\")\n",
        "Missing_values = df.isna().sum()\n",
        "print(Missing_values)"
      ],
      "metadata": {
        "colab": {
          "base_uri": "https://localhost:8080/"
        },
        "id": "rO17e8ODMAt5",
        "outputId": "428094c5-ca53-4cc5-b6da-4ea66ca12e45"
      },
      "execution_count": 2,
      "outputs": [
        {
          "output_type": "stream",
          "name": "stdout",
          "text": [
            "Missing values per column:\n",
            "product ID           0\n",
            "Product Title      172\n",
            "Merchant ID          0\n",
            " Category Label     44\n",
            "_Product Code       95\n",
            "Number_of_Views     14\n",
            "Merchant Rating    170\n",
            " Listing Date       59\n",
            "dtype: int64\n"
          ]
        }
      ]
    },
    {
      "cell_type": "markdown",
      "source": [
        "## Showing mising values via chart"
      ],
      "metadata": {
        "id": "ORAm9fPeODiA"
      }
    },
    {
      "cell_type": "code",
      "source": [
        "import matplotlib.pyplot as plt\n",
        "import seaborn as sns\n",
        "\n",
        "plt.figure(figsize = (10,5))\n",
        "plt.bar(Missing_values.index,Missing_values.values,color = 'red')\n",
        "plt.title(\"Missing Values per Column\")\n",
        "plt.xlabel(\"Column\")\n",
        "plt.ylabel(\"Number of missing values\")\n",
        "plt.xticks(rotation = 45)\n",
        "plt.show()\n"
      ],
      "metadata": {
        "colab": {
          "base_uri": "https://localhost:8080/",
          "height": 570
        },
        "id": "t6ELaTtQOIbr",
        "outputId": "aa91d820-dd50-4306-bc4d-0d9afb5a49b4"
      },
      "execution_count": 3,
      "outputs": [
        {
          "output_type": "display_data",
          "data": {
            "text/plain": [
              "<Figure size 1000x500 with 1 Axes>"
            ],
            "image/png": "[encoded data removed]"
          },
          "metadata": {}
        }
      ]
    },
    {
      "cell_type": "markdown",
      "source": [
        "## Analizing columns Merchant Rating and Number of View to see if there is any correlation beetwen them."
      ],
      "metadata": {
        "id": "ihPgt8pCSJMH"
      }
    },
    {
      "cell_type": "code",
      "source": [
        "import matplotlib.pyplot as plt\n",
        "import seaborn as sns\n",
        "\n",
        "plt.figure(figsize=(10,5))\n",
        "sns.barplot(data = df,x = \"Merchant Rating\",y = \"Number_of_Views\",palette = \"pastel\")\n",
        "plt.title(\"Merchant Rating vs Number of Views\")\n",
        "plt.xlabel(\"Merchant Rating\")\n",
        "plt.ylabel(\"Number of Views\")\n",
        "plt.show()\n"
      ],
      "metadata": {
        "colab": {
          "base_uri": "https://localhost:8080/",
          "height": 574
        },
        "id": "mHY2I_FESZC4",
        "outputId": "3f62d19c-b9ff-4fc8-82f4-bb2e06ea984a"
      },
      "execution_count": 4,
      "outputs": [
        {
          "output_type": "stream",
          "name": "stderr",
          "text": [
            "/tmp/ipython-input-721485788.py:5: FutureWarning: \n",
            "\n",
            "Passing `palette` without assigning `hue` is deprecated and will be removed in v0.14.0. Assign the `x` variable to `hue` and set `legend=False` for the same effect.\n",
            "\n",
            "  sns.barplot(data = df,x = \"Merchant Rating\",y = \"Number_of_Views\",palette = \"pastel\")\n"
          ]
        },
        {
          "output_type": "display_data",
          "data": {
            "text/plain": [
              "<Figure size 1000x500 with 1 Axes>"
            ],
            "image/png": "[encoded data removed]"
          },
          "metadata": {}
        }
      ]
    },
    {
      "cell_type": "markdown",
      "source": [
        "## After our analysis wee decided taht columns are not in any correlation.Rating is not associeted with view in any way."
      ],
      "metadata": {
        "id": "UhVWy3lYVnTf"
      }
    },
    {
      "cell_type": "markdown",
      "source": [
        "## Analyzing column category_label to see if there is any missing values\n"
      ],
      "metadata": {
        "id": "sfgj80TuWsM3"
      }
    },
    {
      "cell_type": "code",
      "source": [
        "#checking for missing values\n",
        "print(\"Category Label type :\",df[' Category Label'].dtype)\n",
        "print(df[' Category Label'].isna().sum())\n",
        "\n",
        "\n"
      ],
      "metadata": {
        "colab": {
          "base_uri": "https://localhost:8080/"
        },
        "id": "JUIhPiqJW5Jv",
        "outputId": "1b15e041-f38d-4f65-cdbb-29dae9b39c0e"
      },
      "execution_count": 5,
      "outputs": [
        {
          "output_type": "stream",
          "name": "stdout",
          "text": [
            "Category Label type : object\n",
            "44\n"
          ]
        }
      ]
    },
    {
      "cell_type": "markdown",
      "source": [
        "## Analyzing column Product Title"
      ],
      "metadata": {
        "id": "juI76uc_cKNV"
      }
    },
    {
      "cell_type": "code",
      "source": [
        "print(\"Show first 10 rows:\")\n",
        "print(df['Product Title'].head(10))\n",
        "\n",
        "print(\"Cheking for missing values:\")\n",
        "print(df['Product Title'].isna().sum())\n",
        "\n",
        "print(\"Column type\")\n",
        "print(df['Product Title'].dtype)"
      ],
      "metadata": {
        "colab": {
          "base_uri": "https://localhost:8080/"
        },
        "id": "3uk_wmzdcP5G",
        "outputId": "950392ba-ea6b-4d38-f585-212ce39c8c7f"
      },
      "execution_count": 6,
      "outputs": [
        {
          "output_type": "stream",
          "name": "stdout",
          "text": [
            "Show first 10 rows:\n",
            "0                      apple iphone 8 plus 64gb silver\n",
            "1                  apple iphone 8 plus 64 gb spacegrau\n",
            "2    apple mq8n2b/a iphone 8 plus 64gb 5.5 12mp sim...\n",
            "3                  apple iphone 8 plus 64gb space grey\n",
            "4    apple iphone 8 plus gold 5.5 64gb 4g unlocked ...\n",
            "5    apple iphone 8 plus gold 5.5 64gb 4g unlocked ...\n",
            "6                 apple iphone 8 plus 64 gb space grey\n",
            "7                  apple iphone 8 plus 64gb space grey\n",
            "8                  apple iphone 8 plus 64gb space grey\n",
            "9                  apple iphone 8 plus 64gb space grey\n",
            "Name: Product Title, dtype: object\n",
            "Cheking for missing values:\n",
            "172\n",
            "Column type\n",
            "object\n"
          ]
        }
      ]
    },
    {
      "cell_type": "code",
      "source": [
        "dc_count = df.groupby(\" Category Label\")['Product Title'].value_counts()\n",
        "print(dc_count)"
      ],
      "metadata": {
        "colab": {
          "base_uri": "https://localhost:8080/"
        },
        "id": "g3Ip41ItbkQs",
        "outputId": "3fbd9d65-9075-4f72-da0d-619136894877"
      },
      "execution_count": 7,
      "outputs": [
        {
          "output_type": "stream",
          "name": "stdout",
          "text": [
            " Category Label  Product Title                                                                                                                                                                                 \n",
            "CPU              20m intel xeon processor e5 26582.10ghz 8.0gt/s qpi cpu 2.1ghz 20mo smart cacheintel xeon processor 2.10ghz 8.0gt/s intel qpi family e52.1ghz lga 2011socket r server/workstation 32nm e5 2658    1\n",
            "                 amd 5 1600 ryzen. processor family amd ryzen 5 processor frequency                                                                                                                                1\n",
            "                 amd a8 7650k 3.3 ghz 4 cores 4 threads 4 mb cache socket fm2 oem                                                                                                                                  1\n",
            "                 amd ad9800ahabbox cpu cooler amd socket a12 9800e am4                                                                                                                                             1\n",
            "                 amd am3 phenom ii 550 95w am3 dual core cpu processor callisto 938 pin 3.1ghz 6mb cache ht 80w retail inc fan 3yr manufacturers warranty                                                          1\n",
            "                                                                                                                                                                                                                  ..\n",
            "fridge           zanker stand k lteger t krg16102we                                                                                                                                                                1\n",
            "                 zanussi zba22421sa built in fridge with freezer                                                                                                                                                   1\n",
            "                 zanussi zrg15805wa under counter fridge with icebox                                                                                                                                               1\n",
            "                 zanussi zrg16602wa unterbauf hig eek a skala a bis d                                                                                                                                              1\n",
            "                 zanussi zrg16605xv undercounter fridge grey                                                                                                                                                       1\n",
            "Name: count, Length: 30886, dtype: int64\n"
          ]
        }
      ]
    },
    {
      "cell_type": "markdown",
      "source": [
        "## Standartization of columns Product Title and Category Label"
      ],
      "metadata": {
        "id": "FOENhl3RePWs"
      }
    },
    {
      "cell_type": "code",
      "source": [
        "#converting column Product Title to string,converting text to lower cases and striping empty spaces in the beggining and end\n",
        "df['Product Title'] = df['Product Title'].astype(str).str.lower().str.strip()\n",
        "#converting column Category Label to string and converting text to lowr cases\n",
        "df[' Category Label'] = df[' Category Label'].astype(str).str.lower()\n",
        "\n",
        "print(df['Product Title'].dtype)\n",
        "print(df[' Category Label'].dtype)"
      ],
      "metadata": {
        "colab": {
          "base_uri": "https://localhost:8080/"
        },
        "id": "Ko8CNPX1eWLY",
        "outputId": "0393e84a-e442-424e-e03d-07be3db8865d"
      },
      "execution_count": 8,
      "outputs": [
        {
          "output_type": "stream",
          "name": "stdout",
          "text": [
            "object\n",
            "object\n"
          ]
        }
      ]
    },
    {
      "cell_type": "markdown",
      "source": [
        "## Removing missing values:\n",
        " Removing missing values from columns"
      ],
      "metadata": {
        "id": "knsu4ym0f40d"
      }
    },
    {
      "cell_type": "code",
      "source": [
        "df = df.dropna()#removing missing valuers from all columns\n",
        "print(df.isna().sum())"
      ],
      "metadata": {
        "colab": {
          "base_uri": "https://localhost:8080/"
        },
        "id": "IC0b-cUsiKdV",
        "outputId": "87bf5c29-439f-400e-8534-3a1655f3383a"
      },
      "execution_count": 9,
      "outputs": [
        {
          "output_type": "stream",
          "name": "stdout",
          "text": [
            "product ID         0\n",
            "Product Title      0\n",
            "Merchant ID        0\n",
            " Category Label    0\n",
            "_Product Code      0\n",
            "Number_of_Views    0\n",
            "Merchant Rating    0\n",
            " Listing Date      0\n",
            "dtype: int64\n"
          ]
        }
      ]
    },
    {
      "cell_type": "markdown",
      "source": [
        "## Removing columns that are not useful for our analysis"
      ],
      "metadata": {
        "id": "JJcRQC6-kJwc"
      }
    },
    {
      "cell_type": "code",
      "source": [
        "#removing columns\n",
        "df = df.drop(columns=['product ID', 'Merchant ID', '_Product Code', 'Number_of_Views', 'Merchant Rating', ' Listing Date  '])\n"
      ],
      "metadata": {
        "id": "_1emP4KykQq8"
      },
      "execution_count": 10,
      "outputs": []
    },
    {
      "cell_type": "markdown",
      "source": [
        "## Creating a new column\n",
        "Wee are goona create new column fridge freezers to improve accuracy of  model because model have some difficulties predicting this category bacause title contains long text and cannot predict with good accuracy"
      ],
      "metadata": {
        "id": "Vo9aXSyz57kp"
      }
    },
    {
      "cell_type": "code",
      "source": [
        "df['fridge freezers']= df['Product Title'].astype(str).str.lower().str.contains('fridge freezers')"
      ],
      "metadata": {
        "id": "p9NtWxkH66fm"
      },
      "execution_count": 17,
      "outputs": []
    },
    {
      "cell_type": "markdown",
      "source": [
        "## Creating a second new column\n",
        "Creating new column title combined in which wee are gona put product title and fridge freezers to boost performance on predicting category fridge freezers"
      ],
      "metadata": {
        "id": "c3WwmDqyA894"
      }
    },
    {
      "cell_type": "code",
      "source": [
        "df['combined title'] = df['Product Title'] + \" \" + df['fridge freezers'].astype(str)"
      ],
      "metadata": {
        "id": "oq4rwcPFBR_F"
      },
      "execution_count": 22,
      "outputs": []
    },
    {
      "cell_type": "markdown",
      "source": [
        "## Spliting the data on train and test data\n",
        "Wee are gona split data to use it to train the model and to see which model for learning is the best in this case"
      ],
      "metadata": {
        "id": "QEt3OcCxqWNK"
      }
    },
    {
      "cell_type": "code",
      "source": [
        "from sklearn.model_selection import train_test_split\n",
        "\n",
        "x = df[[\"Product Title\",\"combined title\"]]\n",
        "y = df[\" Category Label\"]\n",
        "\n",
        "x_train,x_test,y_train,y_test = train_test_split(x,y,test_size = 0.2,random_state = 42,stratify = y)\n",
        "\n"
      ],
      "metadata": {
        "id": "zTdEfGKkqmzg"
      },
      "execution_count": 23,
      "outputs": []
    },
    {
      "cell_type": "markdown",
      "source": [
        "## Transforming data in numerical type for analyzis\n",
        "Wee are gona transform data using tfidfvectorizer to use numerical values in training the model."
      ],
      "metadata": {
        "id": "H0ZA_-Syrdw5"
      }
    },
    {
      "cell_type": "code",
      "source": [
        "from sklearn.compose import ColumnTransformer\n",
        "from sklearn.feature_extraction.text import TfidfVectorizer\n",
        "\n",
        "preprocesor = ColumnTransformer([\n",
        "        (\"title\",TfidfVectorizer(),\"Product Title\"),\n",
        "        (\"combined\",TfidfVectorizer(),\"combined title\")\n",
        "])\n"
      ],
      "metadata": {
        "id": "EpCQ101Urrzi"
      },
      "execution_count": 24,
      "outputs": []
    },
    {
      "cell_type": "markdown",
      "source": [
        "## Creating a list of models to use\n",
        "Wee are gona create list of models to use in train data to se which have best result"
      ],
      "metadata": {
        "id": "qTW1JsVltOfy"
      }
    },
    {
      "cell_type": "code",
      "source": [
        "from sklearn.linear_model import LogisticRegression\n",
        "from sklearn.naive_bayes import MultinomialNB\n",
        "from sklearn.ensemble import RandomForestClassifier\n",
        "from sklearn.svm import LinearSVC\n",
        "from sklearn.tree import DecisionTreeClassifier\n",
        "from sklearn.pipeline import Pipeline\n",
        "from sklearn.metrics import classification_report\n",
        "from sklearn.metrics import accuracy_score\n",
        "\n",
        "models = {\n",
        "    \"Logistic Regression\":LogisticRegression(max_iter = 1000),\n",
        "    \"Naive Bayes\":MultinomialNB(),\n",
        "    \"Random Forest\":RandomForestClassifier(),\n",
        "    \"Decision Tree Classifier\" : DecisionTreeClassifier(),\n",
        "    \"Support Vector Machine\":LinearSVC()\n",
        "}\n",
        "#creating a loop for going trough the models\n",
        "for name,model in models.items():\n",
        "   print(f\"{name}:\")\n",
        "   pipeline= Pipeline([\n",
        "       (\"preprocesing\", preprocesor),\n",
        "       (\"Classifier\", model)])\n",
        "#training the models\n",
        "   pipeline.fit(x_train,y_train)\n",
        "\n",
        "\n",
        "#prediction\n",
        "   y_pred = pipeline.predict(x_test)\n",
        "\n",
        "   print(\"Accuracy:\",accuracy_score(y_test,y_pred))\n",
        "   print(classification_report(y_test,y_pred))\n"
      ],
      "metadata": {
        "colab": {
          "base_uri": "https://localhost:8080/"
        },
        "id": "A1vBYA0htaaD",
        "outputId": "c6bd468a-2792-49d9-f6df-6b40aabdfb41"
      },
      "execution_count": 25,
      "outputs": [
        {
          "output_type": "stream",
          "name": "stdout",
          "text": [
            "Logistic Regression:\n",
            "Accuracy: 0.9502501786990708\n",
            "                  precision    recall  f1-score   support\n",
            "\n",
            "             cpu       0.00      0.00      0.00        16\n",
            "            cpus       0.98      0.99      0.98       747\n",
            " digital cameras       1.00      0.99      0.99       534\n",
            "     dishwashers       0.94      0.95      0.94       677\n",
            "        freezers       0.99      0.91      0.95       438\n",
            "          fridge       0.00      0.00      0.00        24\n",
            " fridge freezers       0.95      0.95      0.95      1090\n",
            "         fridges       0.90      0.90      0.90       685\n",
            "      microwaves       0.99      0.95      0.97       463\n",
            "    mobile phone       0.00      0.00      0.00        11\n",
            "   mobile phones       0.96      0.99      0.97       798\n",
            "             nan       0.00      0.00      0.00         9\n",
            "             tvs       0.92      0.99      0.95       705\n",
            "washing machines       0.94      0.96      0.95       798\n",
            "\n",
            "        accuracy                           0.95      6995\n",
            "       macro avg       0.68      0.68      0.68      6995\n",
            "    weighted avg       0.94      0.95      0.95      6995\n",
            "\n",
            "Naive Bayes:\n"
          ]
        },
        {
          "output_type": "stream",
          "name": "stderr",
          "text": [
            "/usr/local/lib/python3.12/dist-packages/sklearn/metrics/_classification.py:1565: UndefinedMetricWarning: Precision is ill-defined and being set to 0.0 in labels with no predicted samples. Use `zero_division` parameter to control this behavior.\n",
            "  _warn_prf(average, modifier, f\"{metric.capitalize()} is\", len(result))\n",
            "/usr/local/lib/python3.12/dist-packages/sklearn/metrics/_classification.py:1565: UndefinedMetricWarning: Precision is ill-defined and being set to 0.0 in labels with no predicted samples. Use `zero_division` parameter to control this behavior.\n",
            "  _warn_prf(average, modifier, f\"{metric.capitalize()} is\", len(result))\n",
            "/usr/local/lib/python3.12/dist-packages/sklearn/metrics/_classification.py:1565: UndefinedMetricWarning: Precision is ill-defined and being set to 0.0 in labels with no predicted samples. Use `zero_division` parameter to control this behavior.\n",
            "  _warn_prf(average, modifier, f\"{metric.capitalize()} is\", len(result))\n"
          ]
        },
        {
          "output_type": "stream",
          "name": "stdout",
          "text": [
            "Accuracy: 0.9390993566833452\n",
            "                  precision    recall  f1-score   support\n",
            "\n",
            "             cpu       0.00      0.00      0.00        16\n",
            "            cpus       0.98      0.99      0.98       747\n",
            " digital cameras       0.99      0.99      0.99       534\n",
            "     dishwashers       0.98      0.96      0.97       677\n",
            "        freezers       1.00      0.67      0.80       438\n",
            "          fridge       0.00      0.00      0.00        24\n",
            " fridge freezers       0.81      0.98      0.89      1090\n",
            "         fridges       0.89      0.86      0.88       685\n",
            "      microwaves       0.98      0.96      0.97       463\n",
            "    mobile phone       0.00      0.00      0.00        11\n",
            "   mobile phones       0.97      0.99      0.98       798\n",
            "             nan       0.00      0.00      0.00         9\n",
            "             tvs       0.99      0.97      0.98       705\n",
            "washing machines       0.97      0.98      0.97       798\n",
            "\n",
            "        accuracy                           0.94      6995\n",
            "       macro avg       0.68      0.67      0.67      6995\n",
            "    weighted avg       0.94      0.94      0.93      6995\n",
            "\n",
            "Random Forest:\n"
          ]
        },
        {
          "output_type": "stream",
          "name": "stderr",
          "text": [
            "/usr/local/lib/python3.12/dist-packages/sklearn/metrics/_classification.py:1565: UndefinedMetricWarning: Precision is ill-defined and being set to 0.0 in labels with no predicted samples. Use `zero_division` parameter to control this behavior.\n",
            "  _warn_prf(average, modifier, f\"{metric.capitalize()} is\", len(result))\n",
            "/usr/local/lib/python3.12/dist-packages/sklearn/metrics/_classification.py:1565: UndefinedMetricWarning: Precision is ill-defined and being set to 0.0 in labels with no predicted samples. Use `zero_division` parameter to control this behavior.\n",
            "  _warn_prf(average, modifier, f\"{metric.capitalize()} is\", len(result))\n",
            "/usr/local/lib/python3.12/dist-packages/sklearn/metrics/_classification.py:1565: UndefinedMetricWarning: Precision is ill-defined and being set to 0.0 in labels with no predicted samples. Use `zero_division` parameter to control this behavior.\n",
            "  _warn_prf(average, modifier, f\"{metric.capitalize()} is\", len(result))\n"
          ]
        },
        {
          "output_type": "stream",
          "name": "stdout",
          "text": [
            "Accuracy: 0.940528949249464\n",
            "                  precision    recall  f1-score   support\n",
            "\n",
            "             cpu       0.00      0.00      0.00        16\n",
            "            cpus       0.98      0.98      0.98       747\n",
            " digital cameras       1.00      0.98      0.99       534\n",
            "     dishwashers       0.93      0.94      0.93       677\n",
            "        freezers       0.95      0.90      0.92       438\n",
            "          fridge       0.00      0.00      0.00        24\n",
            " fridge freezers       0.93      0.93      0.93      1090\n",
            "         fridges       0.87      0.88      0.88       685\n",
            "      microwaves       0.95      0.94      0.95       463\n",
            "    mobile phone       0.00      0.00      0.00        11\n",
            "   mobile phones       0.96      0.99      0.97       798\n",
            "             nan       0.00      0.00      0.00         9\n",
            "             tvs       0.92      0.99      0.95       705\n",
            "washing machines       0.96      0.95      0.95       798\n",
            "\n",
            "        accuracy                           0.94      6995\n",
            "       macro avg       0.67      0.68      0.68      6995\n",
            "    weighted avg       0.93      0.94      0.94      6995\n",
            "\n",
            "Decision Tree Classifier:\n",
            "Accuracy: 0.9123659756969263\n",
            "                  precision    recall  f1-score   support\n",
            "\n",
            "             cpu       0.00      0.00      0.00        16\n",
            "            cpus       0.98      0.96      0.97       747\n",
            " digital cameras       0.98      0.95      0.96       534\n",
            "     dishwashers       0.94      0.90      0.92       677\n",
            "        freezers       0.91      0.88      0.90       438\n",
            "          fridge       0.00      0.00      0.00        24\n",
            " fridge freezers       0.91      0.92      0.91      1090\n",
            "         fridges       0.86      0.83      0.85       685\n",
            "      microwaves       0.97      0.92      0.94       463\n",
            "    mobile phone       0.00      0.00      0.00        11\n",
            "   mobile phones       0.86      0.95      0.90       798\n",
            "             nan       0.00      0.00      0.00         9\n",
            "             tvs       0.91      0.95      0.93       705\n",
            "washing machines       0.93      0.93      0.93       798\n",
            "\n",
            "        accuracy                           0.91      6995\n",
            "       macro avg       0.66      0.66      0.66      6995\n",
            "    weighted avg       0.91      0.91      0.91      6995\n",
            "\n",
            "Support Vector Machine:\n",
            "Accuracy: 0.9571122230164403\n",
            "                  precision    recall  f1-score   support\n",
            "\n",
            "             cpu       0.00      0.00      0.00        16\n",
            "            cpus       0.98      0.99      0.98       747\n",
            " digital cameras       0.99      0.99      0.99       534\n",
            "     dishwashers       0.95      0.96      0.96       677\n",
            "        freezers       0.99      0.94      0.96       438\n",
            "          fridge       0.00      0.00      0.00        24\n",
            " fridge freezers       0.96      0.96      0.96      1090\n",
            "         fridges       0.91      0.92      0.92       685\n",
            "      microwaves       0.99      0.94      0.97       463\n",
            "    mobile phone       0.00      0.00      0.00        11\n",
            "   mobile phones       0.97      0.99      0.98       798\n",
            "             nan       0.00      0.00      0.00         9\n",
            "             tvs       0.93      0.99      0.96       705\n",
            "washing machines       0.95      0.96      0.95       798\n",
            "\n",
            "        accuracy                           0.96      6995\n",
            "       macro avg       0.69      0.69      0.69      6995\n",
            "    weighted avg       0.95      0.96      0.95      6995\n",
            "\n"
          ]
        }
      ]
    }
  ]
}